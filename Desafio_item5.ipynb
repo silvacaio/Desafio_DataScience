{
  "nbformat": 4,
  "nbformat_minor": 0,
  "metadata": {
    "colab": {
      "name": "Desafio_1.ipynb",
      "provenance": [],
      "collapsed_sections": [],
      "authorship_tag": "ABX9TyMDWBAtc6U3XesZjwwVUYWS",
      "include_colab_link": true
    },
    "kernelspec": {
      "name": "python3",
      "display_name": "Python 3"
    }
  },
  "cells": [
    {
      "cell_type": "markdown",
      "metadata": {
        "id": "view-in-github",
        "colab_type": "text"
      },
      "source": [
        "<a href=\"https://colab.research.google.com/github/silvacaio/Desafio_DataScience/blob/main/Desafio_item5.ipynb\" target=\"_parent\"><img src=\"https://colab.research.google.com/assets/colab-badge.svg\" alt=\"Open In Colab\"/></a>"
      ]
    },
    {
      "cell_type": "markdown",
      "metadata": {
        "id": "QesB0Km_Enfd"
      },
      "source": [
        "###Importando libs"
      ]
    },
    {
      "cell_type": "code",
      "metadata": {
        "id": "nYbtFyCEqttq"
      },
      "source": [
        "import pandas as pd\r\n",
        "import matplotlib.pyplot as plt  \r\n",
        "import numpy as np\r\n",
        "import seaborn as sns\r\n",
        "from sklearn.metrics import accuracy_score\r\n",
        "from sklearn.metrics import classification_report\r\n",
        "from sklearn.metrics import confusion_matrix \r\n",
        "from sklearn.metrics import recall_score \r\n",
        "from sklearn.metrics import precision_score\r\n",
        "from sklearn.model_selection import cross_val_score, cross_val_predict\r\n",
        "from sklearn.model_selection import KFold"
      ],
      "execution_count": null,
      "outputs": []
    },
    {
      "cell_type": "markdown",
      "metadata": {
        "id": "8RV5eL4HEuwh"
      },
      "source": [
        "### Importação de dados e primeiras infos"
      ]
    },
    {
      "cell_type": "code",
      "metadata": {
        "colab": {
          "base_uri": "https://localhost:8080/",
          "height": 204
        },
        "id": "9jI07jBBryqI",
        "outputId": "34d4005c-f97e-43d0-9059-759f87abaf6c"
      },
      "source": [
        "df = pd.read_excel('https://github.com/silvacaio/Desafio_DataScience/raw/main/teste_smarkio_lbs.xls', sheet_name = 'Análise_ML')\r\n",
        "\r\n",
        "df.head()"
      ],
      "execution_count": null,
      "outputs": [
        {
          "output_type": "execute_result",
          "data": {
            "text/html": [
              "<div>\n",
              "<style scoped>\n",
              "    .dataframe tbody tr th:only-of-type {\n",
              "        vertical-align: middle;\n",
              "    }\n",
              "\n",
              "    .dataframe tbody tr th {\n",
              "        vertical-align: top;\n",
              "    }\n",
              "\n",
              "    .dataframe thead th {\n",
              "        text-align: right;\n",
              "    }\n",
              "</style>\n",
              "<table border=\"1\" class=\"dataframe\">\n",
              "  <thead>\n",
              "    <tr style=\"text-align: right;\">\n",
              "      <th></th>\n",
              "      <th>Pred_class</th>\n",
              "      <th>probabilidade</th>\n",
              "      <th>status</th>\n",
              "      <th>True_class</th>\n",
              "    </tr>\n",
              "  </thead>\n",
              "  <tbody>\n",
              "    <tr>\n",
              "      <th>0</th>\n",
              "      <td>2</td>\n",
              "      <td>0.079892</td>\n",
              "      <td>approved</td>\n",
              "      <td>0.0</td>\n",
              "    </tr>\n",
              "    <tr>\n",
              "      <th>1</th>\n",
              "      <td>2</td>\n",
              "      <td>0.379377</td>\n",
              "      <td>approved</td>\n",
              "      <td>74.0</td>\n",
              "    </tr>\n",
              "    <tr>\n",
              "      <th>2</th>\n",
              "      <td>2</td>\n",
              "      <td>0.379377</td>\n",
              "      <td>approved</td>\n",
              "      <td>74.0</td>\n",
              "    </tr>\n",
              "    <tr>\n",
              "      <th>3</th>\n",
              "      <td>2</td>\n",
              "      <td>0.420930</td>\n",
              "      <td>approved</td>\n",
              "      <td>74.0</td>\n",
              "    </tr>\n",
              "    <tr>\n",
              "      <th>4</th>\n",
              "      <td>2</td>\n",
              "      <td>0.607437</td>\n",
              "      <td>approved</td>\n",
              "      <td>NaN</td>\n",
              "    </tr>\n",
              "  </tbody>\n",
              "</table>\n",
              "</div>"
            ],
            "text/plain": [
              "   Pred_class  probabilidade    status  True_class\n",
              "0           2       0.079892  approved         0.0\n",
              "1           2       0.379377  approved        74.0\n",
              "2           2       0.379377  approved        74.0\n",
              "3           2       0.420930  approved        74.0\n",
              "4           2       0.607437  approved         NaN"
            ]
          },
          "metadata": {
            "tags": []
          },
          "execution_count": 142
        }
      ]
    },
    {
      "cell_type": "code",
      "metadata": {
        "colab": {
          "base_uri": "https://localhost:8080/"
        },
        "id": "TJOGGslmuyFM",
        "outputId": "b36e9ed6-fe03-469e-b99d-dc1a46a01f14"
      },
      "source": [
        "#conhecendo a estrutura do dataset\r\n",
        "df.shape"
      ],
      "execution_count": null,
      "outputs": [
        {
          "output_type": "execute_result",
          "data": {
            "text/plain": [
              "(643, 4)"
            ]
          },
          "metadata": {
            "tags": []
          },
          "execution_count": 143
        }
      ]
    },
    {
      "cell_type": "code",
      "metadata": {
        "colab": {
          "base_uri": "https://localhost:8080/"
        },
        "id": "dQEJJ_fmyfl7",
        "outputId": "0a1707aa-090f-41e1-9d17-a42f241c23f9"
      },
      "source": [
        "#tipo das colunas\r\n",
        "df.dtypes"
      ],
      "execution_count": null,
      "outputs": [
        {
          "output_type": "execute_result",
          "data": {
            "text/plain": [
              "Pred_class         int64\n",
              "probabilidade    float64\n",
              "status            object\n",
              "True_class       float64\n",
              "dtype: object"
            ]
          },
          "metadata": {
            "tags": []
          },
          "execution_count": 144
        }
      ]
    },
    {
      "cell_type": "code",
      "metadata": {
        "colab": {
          "base_uri": "https://localhost:8080/"
        },
        "id": "QnJwi9B_z6tP",
        "outputId": "ce73c174-ce5d-4cf6-bc37-1e38301416a4"
      },
      "source": [
        "df.info()"
      ],
      "execution_count": null,
      "outputs": [
        {
          "output_type": "stream",
          "text": [
            "<class 'pandas.core.frame.DataFrame'>\n",
            "RangeIndex: 643 entries, 0 to 642\n",
            "Data columns (total 4 columns):\n",
            " #   Column         Non-Null Count  Dtype  \n",
            "---  ------         --------------  -----  \n",
            " 0   Pred_class     643 non-null    int64  \n",
            " 1   probabilidade  643 non-null    float64\n",
            " 2   status         643 non-null    object \n",
            " 3   True_class     181 non-null    float64\n",
            "dtypes: float64(2), int64(1), object(1)\n",
            "memory usage: 20.2+ KB\n"
          ],
          "name": "stdout"
        }
      ]
    },
    {
      "cell_type": "markdown",
      "metadata": {
        "id": "A07H_v_SGQ7G"
      },
      "source": [
        "Possível observar que a coluna 'True_class' contém muitos valores faltantes"
      ]
    },
    {
      "cell_type": "code",
      "metadata": {
        "colab": {
          "base_uri": "https://localhost:8080/",
          "height": 297
        },
        "id": "wUYA3ElStGqy",
        "outputId": "857b2f73-a713-4fd3-8a55-59b883c83d02"
      },
      "source": [
        "df.describe()"
      ],
      "execution_count": null,
      "outputs": [
        {
          "output_type": "execute_result",
          "data": {
            "text/html": [
              "<div>\n",
              "<style scoped>\n",
              "    .dataframe tbody tr th:only-of-type {\n",
              "        vertical-align: middle;\n",
              "    }\n",
              "\n",
              "    .dataframe tbody tr th {\n",
              "        vertical-align: top;\n",
              "    }\n",
              "\n",
              "    .dataframe thead th {\n",
              "        text-align: right;\n",
              "    }\n",
              "</style>\n",
              "<table border=\"1\" class=\"dataframe\">\n",
              "  <thead>\n",
              "    <tr style=\"text-align: right;\">\n",
              "      <th></th>\n",
              "      <th>Pred_class</th>\n",
              "      <th>probabilidade</th>\n",
              "      <th>True_class</th>\n",
              "    </tr>\n",
              "  </thead>\n",
              "  <tbody>\n",
              "    <tr>\n",
              "      <th>count</th>\n",
              "      <td>643.000000</td>\n",
              "      <td>643.000000</td>\n",
              "      <td>181.000000</td>\n",
              "    </tr>\n",
              "    <tr>\n",
              "      <th>mean</th>\n",
              "      <td>52.712286</td>\n",
              "      <td>0.622436</td>\n",
              "      <td>38.574586</td>\n",
              "    </tr>\n",
              "    <tr>\n",
              "      <th>std</th>\n",
              "      <td>37.602068</td>\n",
              "      <td>0.266811</td>\n",
              "      <td>39.581017</td>\n",
              "    </tr>\n",
              "    <tr>\n",
              "      <th>min</th>\n",
              "      <td>2.000000</td>\n",
              "      <td>0.043858</td>\n",
              "      <td>0.000000</td>\n",
              "    </tr>\n",
              "    <tr>\n",
              "      <th>25%</th>\n",
              "      <td>12.000000</td>\n",
              "      <td>0.408017</td>\n",
              "      <td>0.000000</td>\n",
              "    </tr>\n",
              "    <tr>\n",
              "      <th>50%</th>\n",
              "      <td>59.000000</td>\n",
              "      <td>0.616809</td>\n",
              "      <td>24.000000</td>\n",
              "    </tr>\n",
              "    <tr>\n",
              "      <th>75%</th>\n",
              "      <td>81.000000</td>\n",
              "      <td>0.870083</td>\n",
              "      <td>74.000000</td>\n",
              "    </tr>\n",
              "    <tr>\n",
              "      <th>max</th>\n",
              "      <td>118.000000</td>\n",
              "      <td>1.000000</td>\n",
              "      <td>117.000000</td>\n",
              "    </tr>\n",
              "  </tbody>\n",
              "</table>\n",
              "</div>"
            ],
            "text/plain": [
              "       Pred_class  probabilidade  True_class\n",
              "count  643.000000     643.000000  181.000000\n",
              "mean    52.712286       0.622436   38.574586\n",
              "std     37.602068       0.266811   39.581017\n",
              "min      2.000000       0.043858    0.000000\n",
              "25%     12.000000       0.408017    0.000000\n",
              "50%     59.000000       0.616809   24.000000\n",
              "75%     81.000000       0.870083   74.000000\n",
              "max    118.000000       1.000000  117.000000"
            ]
          },
          "metadata": {
            "tags": []
          },
          "execution_count": 146
        }
      ]
    },
    {
      "cell_type": "markdown",
      "metadata": {
        "id": "45GNWwZ-Ggol"
      },
      "source": [
        "Através da estatistica descritiva, acima, já é possível observar uma \"inconsistencia\" nestes dados uma vez que os valores limites (min e max) da coluna 'Pred_class' não existem na coluna 'True_class'"
      ]
    },
    {
      "cell_type": "code",
      "metadata": {
        "colab": {
          "base_uri": "https://localhost:8080/"
        },
        "id": "6UnNxQw8t0YS",
        "outputId": "af1c5a3c-d0e1-4496-a54c-f5aee374d8ef"
      },
      "source": [
        "#confirmando que somente a coluna 'True_class' contém missing values\r\n",
        "df.columns[df.isnull().any()]"
      ],
      "execution_count": null,
      "outputs": [
        {
          "output_type": "execute_result",
          "data": {
            "text/plain": [
              "Index(['True_class'], dtype='object')"
            ]
          },
          "metadata": {
            "tags": []
          },
          "execution_count": 147
        }
      ]
    },
    {
      "cell_type": "code",
      "metadata": {
        "colab": {
          "base_uri": "https://localhost:8080/"
        },
        "id": "gsN0UnyQt9xZ",
        "outputId": "55a841da-4450-4b64-ff56-9a88a6867736"
      },
      "source": [
        "qtdTotal = len(df)\r\n",
        "qtdWithClassification = len(df[df.True_class.isnull() == False])\r\n",
        "qtdWithoutClassification = len(df[df.True_class.isnull() == True])\r\n",
        "qtdCorrectPredicted = len(df[df.True_class == df.Pred_class])\r\n",
        "percWithoutClassification = round(qtdWithoutClassification * 100 / qtdTotal, 2)\r\n",
        "print(f'Quantidade de itens: {qtdTotal}')\r\n",
        "print(f'Quantidade de itens classificados: {qtdWithClassification}')\r\n",
        "print(f'Quantidade de itens sem classificação: {percWithoutClassification}%')\r\n",
        "print(f'% de itens sem classificação: {qtdWithoutClassification}')\r\n",
        "print(f'Quantidade de itens preditos corretamente: {qtdCorrectPredicted}')"
      ],
      "execution_count": null,
      "outputs": [
        {
          "output_type": "stream",
          "text": [
            "Quantidade de itens: 643\n",
            "Quantidade de itens classificados: 181\n",
            "Quantidade de itens sem classificação: 71.85%\n",
            "% de itens sem classificação: 462\n",
            "Quantidade de itens preditos corretamente: 0\n"
          ],
          "name": "stdout"
        }
      ]
    },
    {
      "cell_type": "markdown",
      "metadata": {
        "id": "xgVLYILgIE0B"
      },
      "source": [
        "Destaca-se nesta análise inicial que dos itens que contém a \"classe verdadeira\" (True_class) NENHUM foi classificado corretamente."
      ]
    },
    {
      "cell_type": "code",
      "metadata": {
        "id": "dHfvaxJn8J1B"
      },
      "source": [
        "df_withClass = df[df.True_class.isnull() == False]"
      ],
      "execution_count": null,
      "outputs": []
    },
    {
      "cell_type": "code",
      "metadata": {
        "colab": {
          "base_uri": "https://localhost:8080/"
        },
        "id": "nBURa42j72Ap",
        "outputId": "4cfa2291-ed85-40f4-cfdb-f09befefc125"
      },
      "source": [
        "len(df_withClass[df_withClass['status'] == 'revision'])"
      ],
      "execution_count": null,
      "outputs": [
        {
          "output_type": "execute_result",
          "data": {
            "text/plain": [
              "0"
            ]
          },
          "metadata": {
            "tags": []
          },
          "execution_count": 150
        }
      ]
    },
    {
      "cell_type": "code",
      "metadata": {
        "colab": {
          "base_uri": "https://localhost:8080/"
        },
        "id": "DwX4Nz8x79-G",
        "outputId": "587a4afc-7302-4e0c-f572-0306eccd46a1"
      },
      "source": [
        "accuracy_score(df_withClass['True_class'], df_withClass['Pred_class'])"
      ],
      "execution_count": null,
      "outputs": [
        {
          "output_type": "execute_result",
          "data": {
            "text/plain": [
              "0.0"
            ]
          },
          "metadata": {
            "tags": []
          },
          "execution_count": 151
        }
      ]
    },
    {
      "cell_type": "markdown",
      "metadata": {
        "id": "yRs7LSS1IogZ"
      },
      "source": [
        "É possível observar e confirmar que a acurácia dos itens com  a \"classe verdadeira\" (True_class) é de 0%"
      ]
    },
    {
      "cell_type": "code",
      "metadata": {
        "id": "6kjrBrKm7kEL"
      },
      "source": [
        "df_withoutClass = df[df.True_class.isnull()]"
      ],
      "execution_count": null,
      "outputs": []
    },
    {
      "cell_type": "code",
      "metadata": {
        "colab": {
          "base_uri": "https://localhost:8080/"
        },
        "id": "hKFNTeRi7qo-",
        "outputId": "0c8bd526-cc8b-4eb7-991e-b178df901c46"
      },
      "source": [
        "len(df_withoutClass[df_withoutClass['status'] == 'revision'])"
      ],
      "execution_count": null,
      "outputs": [
        {
          "output_type": "execute_result",
          "data": {
            "text/plain": [
              "43"
            ]
          },
          "metadata": {
            "tags": []
          },
          "execution_count": 153
        }
      ]
    },
    {
      "cell_type": "markdown",
      "metadata": {
        "id": "j0lOBzBW-dR2"
      },
      "source": [
        "Outro fator observado nesta análise inicial é de que TODOS os registros com status igual a revision estão SEM valor na coluna \"True_class\". por isso, após a etapa de popular os registros faltantes com os valores da coluna \"Pred_class\", TODOS os dados ficarão com o dado exatamente igual em ambas as colunas. Isto pode ser um fator de enviesamento, na etapa de criação de uma novo modelo."
      ]
    },
    {
      "cell_type": "markdown",
      "metadata": {
        "id": "IPcLslXgJX73"
      },
      "source": [
        "##EDA - Exploratory Data Analysis\r\n"
      ]
    },
    {
      "cell_type": "code",
      "metadata": {
        "id": "yCys7h2W7oED"
      },
      "source": [
        "df_ajusted = df.copy()"
      ],
      "execution_count": null,
      "outputs": []
    },
    {
      "cell_type": "code",
      "metadata": {
        "id": "AA3BDJnh4g_B"
      },
      "source": [
        "#conforme orientações do teste, quando a 'True_class' for nula ela deve assumir o valor da coluna 'Pred_class'\r\n",
        "df_ajusted['True_class'] = df_ajusted['True_class'].fillna(df['Pred_class'])"
      ],
      "execution_count": null,
      "outputs": []
    },
    {
      "cell_type": "code",
      "metadata": {
        "colab": {
          "base_uri": "https://localhost:8080/"
        },
        "id": "hjaV0YlJX1Kh",
        "outputId": "f7c98e1f-f9fb-4ae3-b904-352f78f5cf1a"
      },
      "source": [
        "#confirmando que não tem mais colunas com valores nulls\r\n",
        "df_ajusted.columns[df_ajusted.isnull().any()]"
      ],
      "execution_count": null,
      "outputs": [
        {
          "output_type": "execute_result",
          "data": {
            "text/plain": [
              "Index([], dtype='object')"
            ]
          },
          "metadata": {
            "tags": []
          },
          "execution_count": 156
        }
      ]
    },
    {
      "cell_type": "code",
      "metadata": {
        "colab": {
          "base_uri": "https://localhost:8080/"
        },
        "id": "mRFN9tPxKBR3",
        "outputId": "d5b6a75a-50f8-4a1b-bb80-24647ac3aa78"
      },
      "source": [
        "qtdRealClass = df_ajusted.True_class.nunique()\r\n",
        "qtdPredictedClass = df_ajusted.Pred_class.nunique()\r\n",
        "\r\n",
        "print(f'Quantidade de classes (reais): {qtdRealClass}')\r\n",
        "print(f'Quantidade de classes (preditas): {qtdPredictedClass}')\r\n",
        "\r\n",
        "print(f'Este modelo realizou a predição de {qtdPredictedClass} classes, porém é possível observar que só existem {qtdRealClass}. Ou seja, o modelo fez a predição de {qtdPredictedClass - qtdRealClass} que não existem.' )"
      ],
      "execution_count": null,
      "outputs": [
        {
          "output_type": "stream",
          "text": [
            "Quantidade de classes (reais): 73\n",
            "Quantidade de classes (preditas): 80\n",
            "Este modelo realizou a predição de 80 classes, porém é possível observar que só existem 73. Ou seja, o modelo fez a predição de 7 que não existem.\n"
          ],
          "name": "stdout"
        }
      ]
    },
    {
      "cell_type": "code",
      "metadata": {
        "colab": {
          "base_uri": "https://localhost:8080/"
        },
        "id": "s6wllEMTMvBu",
        "outputId": "79ca0861-7eec-4960-fb68-2581cd6ff149"
      },
      "source": [
        "predictNotExist = []\r\n",
        "realClasses = df_ajusted.True_class.unique()\r\n",
        "for pred in df.Pred_class.unique(): \r\n",
        "  if pred not in realClasses:\r\n",
        "    predictNotExist.append(pred)\r\n",
        "\r\n",
        "print(f'As seguintes classes foram preditas, porém não existem:{predictNotExist}') "
      ],
      "execution_count": null,
      "outputs": [
        {
          "output_type": "stream",
          "text": [
            "As seguintes classes foram preditas, porém não existem:[33, 50, 64, 109, 49, 31, 21, 95, 105]\n"
          ],
          "name": "stdout"
        }
      ]
    },
    {
      "cell_type": "code",
      "metadata": {
        "id": "aHZPMKKGQlOw",
        "colab": {
          "base_uri": "https://localhost:8080/",
          "height": 625
        },
        "outputId": "c431e6f3-4807-4332-fe44-1da6ac3f385e"
      },
      "source": [
        "#visualização da quantidade de classes preditas e classes reais\r\n",
        "plt.figure(figsize=(20, 6))\r\n",
        "df_ajusted['Pred_class'].value_counts().plot.bar()\r\n",
        "plt.show()\r\n",
        "plt.figure(figsize=(20, 6))\r\n",
        "df_ajusted['True_class'].value_counts().plot.bar(color='green')\r\n",
        "plt.show()"
      ],
      "execution_count": null,
      "outputs": [
        {
          "output_type": "display_data",
          "data": {
            "image/png": "[encoded data removed]",
            "text/plain": [
              "<Figure size 1440x432 with 1 Axes>"
            ]
          },
          "metadata": {
            "tags": [],
            "needs_background": "light"
          }
        },
        {
          "output_type": "display_data",
          "data": {
            "image/png": "[encoded data removed]",
            "text/plain": [
              "<Figure size 1440x432 with 1 Axes>"
            ]
          },
          "metadata": {
            "tags": [],
            "needs_background": "light"
          }
        }
      ]
    },
    {
      "cell_type": "code",
      "metadata": {
        "id": "NwT785f2SFw-",
        "colab": {
          "base_uri": "https://localhost:8080/"
        },
        "outputId": "43fb557e-cd87-4c4e-f320-5d497c9b6a84"
      },
      "source": [
        "print(f\"\"\"Top 5 Pred_class: \r\n",
        "{df_ajusted['Pred_class'].value_counts().head(5)}\"\"\")\r\n",
        "print(f\"\"\"Top 5 True_class:\r\n",
        "{df_ajusted['True_class'].value_counts().head(5)}\"\"\")\r\n"
      ],
      "execution_count": null,
      "outputs": [
        {
          "output_type": "stream",
          "text": [
            "Top 5 Pred_class: \n",
            "3     63\n",
            "2     61\n",
            "74    59\n",
            "60    31\n",
            "77    31\n",
            "Name: Pred_class, dtype: int64\n",
            "Top 5 True_class:\n",
            "74.0    78\n",
            "2.0     61\n",
            "3.0     60\n",
            "0.0     54\n",
            "77.0    29\n",
            "Name: True_class, dtype: int64\n"
          ],
          "name": "stdout"
        }
      ]
    },
    {
      "cell_type": "code",
      "metadata": {
        "colab": {
          "base_uri": "https://localhost:8080/"
        },
        "id": "FAS6WmprbAOp",
        "outputId": "8bf4c8c4-8985-48c4-a5aa-200db3870cb4"
      },
      "source": [
        "len(df_ajusted[df_ajusted['Pred_class'] == 0])"
      ],
      "execution_count": null,
      "outputs": [
        {
          "output_type": "execute_result",
          "data": {
            "text/plain": [
              "0"
            ]
          },
          "metadata": {
            "tags": []
          },
          "execution_count": 161
        }
      ]
    },
    {
      "cell_type": "code",
      "metadata": {
        "colab": {
          "base_uri": "https://localhost:8080/"
        },
        "id": "uOfdhRpkb8hO",
        "outputId": "bcc2b492-91aa-4c26-f52d-cdac6353ce6c"
      },
      "source": [
        "df_ajusted[df_ajusted['True_class'] == 0]['Pred_class'].value_counts()"
      ],
      "execution_count": null,
      "outputs": [
        {
          "output_type": "execute_result",
          "data": {
            "text/plain": [
              "52     14\n",
              "32      4\n",
              "110     3\n",
              "59      3\n",
              "86      2\n",
              "2       2\n",
              "50      2\n",
              "3       2\n",
              "109     2\n",
              "99      2\n",
              "60      1\n",
              "19      1\n",
              "74      1\n",
              "77      1\n",
              "11      1\n",
              "22      1\n",
              "21      1\n",
              "31      1\n",
              "90      1\n",
              "92      1\n",
              "30      1\n",
              "33      1\n",
              "39      1\n",
              "104     1\n",
              "43      1\n",
              "48      1\n",
              "85      1\n",
              "64      1\n",
              "Name: Pred_class, dtype: int64"
            ]
          },
          "metadata": {
            "tags": []
          },
          "execution_count": 162
        }
      ]
    },
    {
      "cell_type": "markdown",
      "metadata": {
        "id": "sJFuQkHRahx5"
      },
      "source": [
        "Podemos observar que dos top 5 de classes reais 'True_class', a única que não apareceu com um número próximo de classes preditas foi o classe 0. \r\n",
        "A classe 0 é uma classe muito presente no 'True_class', porém não exista na coluna 'Pred_class'."
      ]
    },
    {
      "cell_type": "markdown",
      "metadata": {
        "id": "h0tRFX02fyMO"
      },
      "source": [
        "Não é possível inferir algo significativo do gráfico de correlações destes dados. "
      ]
    },
    {
      "cell_type": "code",
      "metadata": {
        "colab": {
          "base_uri": "https://localhost:8080/",
          "height": 312
        },
        "id": "dR2Cn4EOcT0o",
        "outputId": "e37c1adb-9550-4321-b5ee-435b29ea80ef"
      },
      "source": [
        "sns.countplot(x = df_ajusted.status)\r\n",
        "plt.title('Contagem de status')"
      ],
      "execution_count": null,
      "outputs": [
        {
          "output_type": "execute_result",
          "data": {
            "text/plain": [
              "Text(0.5, 1.0, 'Contagem de status')"
            ]
          },
          "metadata": {
            "tags": []
          },
          "execution_count": 163
        },
        {
          "output_type": "display_data",
          "data": {
            "image/png": "[encoded data removed]",
            "text/plain": [
              "<Figure size 432x288 with 1 Axes>"
            ]
          },
          "metadata": {
            "tags": [],
            "needs_background": "light"
          }
        }
      ]
    },
    {
      "cell_type": "markdown",
      "metadata": {
        "id": "BGVZaj34c9Fl"
      },
      "source": [
        "Possível observar um grande desbalanceamento entre estes itens, podendo ter um impacto negativo na criação de uma novo modelo de classificação. Uma possível solução, seria a aplicação das técnicas de oversampling or undersampling."
      ]
    },
    {
      "cell_type": "code",
      "metadata": {
        "colab": {
          "base_uri": "https://localhost:8080/",
          "height": 312
        },
        "id": "vEEGvFAgiC8u",
        "outputId": "e5ea52c2-5a6a-4257-d09f-391a81456328"
      },
      "source": [
        "sns.boxplot(data=df_ajusted,\r\n",
        "            x='status',\r\n",
        "            y='probabilidade',)\r\n",
        "plt.title(\"Distribuição do status\")"
      ],
      "execution_count": null,
      "outputs": [
        {
          "output_type": "execute_result",
          "data": {
            "text/plain": [
              "Text(0.5, 1.0, 'Distribuição do status')"
            ]
          },
          "metadata": {
            "tags": []
          },
          "execution_count": 164
        },
        {
          "output_type": "display_data",
          "data": {
            "image/png": "[encoded data removed]",
            "text/plain": [
              "<Figure size 432x288 with 1 Axes>"
            ]
          },
          "metadata": {
            "tags": [],
            "needs_background": "light"
          }
        }
      ]
    },
    {
      "cell_type": "code",
      "metadata": {
        "colab": {
          "base_uri": "https://localhost:8080/",
          "height": 142
        },
        "id": "-g0sjjyAkLya",
        "outputId": "b9b5625e-bf03-40c8-f09c-339c6bcb97ae"
      },
      "source": [
        "df_ajusted[df_ajusted['status'] == 'approved'].describe().T"
      ],
      "execution_count": null,
      "outputs": [
        {
          "output_type": "execute_result",
          "data": {
            "text/html": [
              "<div>\n",
              "<style scoped>\n",
              "    .dataframe tbody tr th:only-of-type {\n",
              "        vertical-align: middle;\n",
              "    }\n",
              "\n",
              "    .dataframe tbody tr th {\n",
              "        vertical-align: top;\n",
              "    }\n",
              "\n",
              "    .dataframe thead th {\n",
              "        text-align: right;\n",
              "    }\n",
              "</style>\n",
              "<table border=\"1\" class=\"dataframe\">\n",
              "  <thead>\n",
              "    <tr style=\"text-align: right;\">\n",
              "      <th></th>\n",
              "      <th>count</th>\n",
              "      <th>mean</th>\n",
              "      <th>std</th>\n",
              "      <th>min</th>\n",
              "      <th>25%</th>\n",
              "      <th>50%</th>\n",
              "      <th>75%</th>\n",
              "      <th>max</th>\n",
              "    </tr>\n",
              "  </thead>\n",
              "  <tbody>\n",
              "    <tr>\n",
              "      <th>Pred_class</th>\n",
              "      <td>600.0</td>\n",
              "      <td>53.545000</td>\n",
              "      <td>37.796944</td>\n",
              "      <td>2.000000</td>\n",
              "      <td>12.000000</td>\n",
              "      <td>60.000000</td>\n",
              "      <td>82.000000</td>\n",
              "      <td>118.0</td>\n",
              "    </tr>\n",
              "    <tr>\n",
              "      <th>probabilidade</th>\n",
              "      <td>600.0</td>\n",
              "      <td>0.629549</td>\n",
              "      <td>0.270583</td>\n",
              "      <td>0.043858</td>\n",
              "      <td>0.411801</td>\n",
              "      <td>0.635104</td>\n",
              "      <td>0.881497</td>\n",
              "      <td>1.0</td>\n",
              "    </tr>\n",
              "    <tr>\n",
              "      <th>True_class</th>\n",
              "      <td>600.0</td>\n",
              "      <td>48.765000</td>\n",
              "      <td>38.881651</td>\n",
              "      <td>0.000000</td>\n",
              "      <td>3.000000</td>\n",
              "      <td>60.000000</td>\n",
              "      <td>77.000000</td>\n",
              "      <td>118.0</td>\n",
              "    </tr>\n",
              "  </tbody>\n",
              "</table>\n",
              "</div>"
            ],
            "text/plain": [
              "               count       mean        std  ...        50%        75%    max\n",
              "Pred_class     600.0  53.545000  37.796944  ...  60.000000  82.000000  118.0\n",
              "probabilidade  600.0   0.629549   0.270583  ...   0.635104   0.881497    1.0\n",
              "True_class     600.0  48.765000  38.881651  ...  60.000000  77.000000  118.0\n",
              "\n",
              "[3 rows x 8 columns]"
            ]
          },
          "metadata": {
            "tags": []
          },
          "execution_count": 165
        }
      ]
    },
    {
      "cell_type": "code",
      "metadata": {
        "colab": {
          "base_uri": "https://localhost:8080/",
          "height": 142
        },
        "id": "0jKP879lkuuu",
        "outputId": "d6f9bdda-cc35-4db1-8146-b91a097fd0af"
      },
      "source": [
        "df_ajusted[df_ajusted['status'] == 'revision'].describe().T"
      ],
      "execution_count": null,
      "outputs": [
        {
          "output_type": "execute_result",
          "data": {
            "text/html": [
              "<div>\n",
              "<style scoped>\n",
              "    .dataframe tbody tr th:only-of-type {\n",
              "        vertical-align: middle;\n",
              "    }\n",
              "\n",
              "    .dataframe tbody tr th {\n",
              "        vertical-align: top;\n",
              "    }\n",
              "\n",
              "    .dataframe thead th {\n",
              "        text-align: right;\n",
              "    }\n",
              "</style>\n",
              "<table border=\"1\" class=\"dataframe\">\n",
              "  <thead>\n",
              "    <tr style=\"text-align: right;\">\n",
              "      <th></th>\n",
              "      <th>count</th>\n",
              "      <th>mean</th>\n",
              "      <th>std</th>\n",
              "      <th>min</th>\n",
              "      <th>25%</th>\n",
              "      <th>50%</th>\n",
              "      <th>75%</th>\n",
              "      <th>max</th>\n",
              "    </tr>\n",
              "  </thead>\n",
              "  <tbody>\n",
              "    <tr>\n",
              "      <th>Pred_class</th>\n",
              "      <td>43.0</td>\n",
              "      <td>41.093023</td>\n",
              "      <td>33.013571</td>\n",
              "      <td>2.000000</td>\n",
              "      <td>14.500000</td>\n",
              "      <td>32.000000</td>\n",
              "      <td>60.000000</td>\n",
              "      <td>114.000000</td>\n",
              "    </tr>\n",
              "    <tr>\n",
              "      <th>probabilidade</th>\n",
              "      <td>43.0</td>\n",
              "      <td>0.523184</td>\n",
              "      <td>0.182102</td>\n",
              "      <td>0.278516</td>\n",
              "      <td>0.345885</td>\n",
              "      <td>0.511118</td>\n",
              "      <td>0.654347</td>\n",
              "      <td>0.909148</td>\n",
              "    </tr>\n",
              "    <tr>\n",
              "      <th>True_class</th>\n",
              "      <td>43.0</td>\n",
              "      <td>41.093023</td>\n",
              "      <td>33.013571</td>\n",
              "      <td>2.000000</td>\n",
              "      <td>14.500000</td>\n",
              "      <td>32.000000</td>\n",
              "      <td>60.000000</td>\n",
              "      <td>114.000000</td>\n",
              "    </tr>\n",
              "  </tbody>\n",
              "</table>\n",
              "</div>"
            ],
            "text/plain": [
              "               count       mean        std  ...        50%        75%         max\n",
              "Pred_class      43.0  41.093023  33.013571  ...  32.000000  60.000000  114.000000\n",
              "probabilidade   43.0   0.523184   0.182102  ...   0.511118   0.654347    0.909148\n",
              "True_class      43.0  41.093023  33.013571  ...  32.000000  60.000000  114.000000\n",
              "\n",
              "[3 rows x 8 columns]"
            ]
          },
          "metadata": {
            "tags": []
          },
          "execution_count": 166
        }
      ]
    },
    {
      "cell_type": "markdown",
      "metadata": {
        "id": "C79CmBA8jclh"
      },
      "source": [
        "Através do gráfico de boxplot podemos observar a distribuições dos dados dentro dos percentis. \r\n",
        "\r\n",
        "*   Para o status 'approved' os dados de probabilidade se concentram na faixa entre 0.411801 e 0.881497.\r\n",
        "*   Para o status 'revision' os dados de probabilidade se concentram na faixa entre 0.345885 e 0.654347.\r\n",
        "\r\n",
        "\r\n"
      ]
    },
    {
      "cell_type": "markdown",
      "metadata": {
        "id": "pgksvhWklpyB"
      },
      "source": [
        "##Validação do modelo original (métricas)"
      ]
    },
    {
      "cell_type": "code",
      "metadata": {
        "colab": {
          "base_uri": "https://localhost:8080/"
        },
        "id": "aEhENqU-nWCx",
        "outputId": "e16c1462-cca9-4648-a2fe-a1671da7c975"
      },
      "source": [
        "confusion_matrix(df_ajusted.Pred_class, df_ajusted.True_class)"
      ],
      "execution_count": null,
      "outputs": [
        {
          "output_type": "execute_result",
          "data": {
            "text/plain": [
              "array([[ 0,  0,  0, ...,  0,  0,  0],\n",
              "       [ 2, 47,  1, ...,  0,  0,  0],\n",
              "       [ 2,  0, 50, ...,  0,  0,  0],\n",
              "       ...,\n",
              "       [ 0,  0,  0, ...,  2,  0,  0],\n",
              "       [ 0,  0,  0, ...,  0,  0,  0],\n",
              "       [ 0,  0,  0, ...,  0,  0,  2]])"
            ]
          },
          "metadata": {
            "tags": []
          },
          "execution_count": 167
        }
      ]
    },
    {
      "cell_type": "code",
      "metadata": {
        "colab": {
          "base_uri": "https://localhost:8080/",
          "height": 516
        },
        "id": "i_9U6pLQltc6",
        "outputId": "06588376-a42f-4378-87ff-745ba6c03067"
      },
      "source": [
        "plt.figure(figsize = (15, 8))\r\n",
        "sns.heatmap(confusion_matrix(df_ajusted.Pred_class, df_ajusted.True_class))\r\n",
        "plt.title('Matriz de Confusão')"
      ],
      "execution_count": null,
      "outputs": [
        {
          "output_type": "execute_result",
          "data": {
            "text/plain": [
              "Text(0.5, 1.0, 'Matriz de Confusão')"
            ]
          },
          "metadata": {
            "tags": []
          },
          "execution_count": 168
        },
        {
          "output_type": "display_data",
          "data": {
            "image/png": "[encoded data removed]",
            "text/plain": [
              "<Figure size 1080x576 with 2 Axes>"
            ]
          },
          "metadata": {
            "tags": [],
            "needs_background": "light"
          }
        }
      ]
    },
    {
      "cell_type": "markdown",
      "metadata": {
        "id": "xT3e-U4xm_K0"
      },
      "source": [
        "Através da matriz de confusão, podemos observar a diagonal principal onde os pontos mais claros representam a quantidade de acertos do modelo para determinada classe. Ou seja, quanto mais claro estiver o ponto, na diagonal principal, melhor qualidade do nosso modelo."
      ]
    },
    {
      "cell_type": "markdown",
      "metadata": {
        "id": "exr_orIHotq-"
      },
      "source": [
        "No início desta análise observamos que inicialmente, com os valores nulos, não existia nenhuma classe predita corretamente. Conforme orientações do teste, assumimos que o valor da coluna 'Pred_class' estava correto.\r\n",
        "Desta maneira, podemos inferir que a porcentagem de registros que INICIALMENTE estavam sem classificação, 71.85%, representa também a acurácia deste modelo. Podemos confirmar isso com a aplicação da função abaixo:"
      ]
    },
    {
      "cell_type": "code",
      "metadata": {
        "colab": {
          "base_uri": "https://localhost:8080/"
        },
        "id": "jHSAMIXipf5v",
        "outputId": "933db694-93b7-4bfa-d7c2-7cb71387d46b"
      },
      "source": [
        "print(f'Percentual de registros inicialmente sem classificação: {percWithoutClassification}')\r\n",
        "print(f\"Acurácia do modelo: {round(accuracy_score(df_ajusted['True_class'], df_ajusted['Pred_class']) * 100, 2)}\")"
      ],
      "execution_count": null,
      "outputs": [
        {
          "output_type": "stream",
          "text": [
            "Percentual de registros inicialmente sem classificação: 71.85\n",
            "Acurácia do modelo: 71.85\n"
          ],
          "name": "stdout"
        }
      ]
    },
    {
      "cell_type": "markdown",
      "metadata": {
        "id": "ZIDOGZitszCo"
      },
      "source": [
        "Utilizamos o recall como forma de avaliar o quão bom este modelo é em identificar os possíveis casos positivos:"
      ]
    },
    {
      "cell_type": "code",
      "metadata": {
        "colab": {
          "base_uri": "https://localhost:8080/"
        },
        "id": "MJYXZvEArcgi",
        "outputId": "847328b3-c69d-47ae-c969-5229025c4165"
      },
      "source": [
        "recall_score(df_ajusted['True_class'], df_ajusted['Pred_class'], average='macro', zero_division=0)"
      ],
      "execution_count": null,
      "outputs": [
        {
          "output_type": "execute_result",
          "data": {
            "text/plain": [
              "0.6997739858971228"
            ]
          },
          "metadata": {
            "tags": []
          },
          "execution_count": 170
        }
      ]
    },
    {
      "cell_type": "markdown",
      "metadata": {
        "id": "YyxQnzL4TON2"
      },
      "source": [
        "Na \"precision\" os falsos positivos são utilizados como conforma de \"punição\", a fim de apresentar dentro do que foi classificado como positivo, o que de fato é positivo."
      ]
    },
    {
      "cell_type": "code",
      "metadata": {
        "colab": {
          "base_uri": "https://localhost:8080/"
        },
        "id": "-6CCOicTA_MX",
        "outputId": "12dd435e-74c7-4167-cf10-b910cef7f1a6"
      },
      "source": [
        "precision_score(df_ajusted['True_class'], df_ajusted['Pred_class'], average='macro', zero_division=0)"
      ],
      "execution_count": null,
      "outputs": [
        {
          "output_type": "execute_result",
          "data": {
            "text/plain": [
              "0.6286648904994168"
            ]
          },
          "metadata": {
            "tags": []
          },
          "execution_count": 171
        }
      ]
    },
    {
      "cell_type": "markdown",
      "metadata": {
        "id": "nXtUSXderQq0"
      },
      "source": [
        "Report com as métricas para cada uma das classes:"
      ]
    },
    {
      "cell_type": "code",
      "metadata": {
        "colab": {
          "base_uri": "https://localhost:8080/"
        },
        "id": "R8b9dGvh9t35",
        "outputId": "f8a81086-6c56-461a-bf61-8dc51c18d16d"
      },
      "source": [
        "print(classification_report(df_ajusted['True_class'], df_ajusted['Pred_class'], zero_division=0))"
      ],
      "execution_count": null,
      "outputs": [
        {
          "output_type": "stream",
          "text": [
            "              precision    recall  f1-score   support\n",
            "\n",
            "         0.0       0.00      0.00      0.00        54\n",
            "         2.0       0.77      0.77      0.77        61\n",
            "         3.0       0.79      0.83      0.81        60\n",
            "         4.0       0.78      0.86      0.82        21\n",
            "        11.0       0.44      1.00      0.62         4\n",
            "        12.0       0.83      0.71      0.77         7\n",
            "        15.0       0.67      0.67      0.67         3\n",
            "        17.0       0.86      0.75      0.80         8\n",
            "        19.0       0.40      0.40      0.40         5\n",
            "        21.0       0.00      0.00      0.00         0\n",
            "        22.0       0.67      0.91      0.77        11\n",
            "        24.0       0.71      0.62      0.67        16\n",
            "        25.0       0.83      1.00      0.91        10\n",
            "        26.0       0.33      0.50      0.40         2\n",
            "        28.0       0.50      1.00      0.67         1\n",
            "        29.0       1.00      1.00      1.00         7\n",
            "        30.0       0.60      1.00      0.75         3\n",
            "        31.0       0.00      0.00      0.00         0\n",
            "        32.0       0.25      0.50      0.33         4\n",
            "        33.0       0.00      0.00      0.00         0\n",
            "        36.0       1.00      1.00      1.00         1\n",
            "        39.0       0.67      1.00      0.80         4\n",
            "        40.0       1.00      0.78      0.88         9\n",
            "        43.0       0.50      1.00      0.67         3\n",
            "        46.0       1.00      1.00      1.00         1\n",
            "        48.0       0.50      0.25      0.33         4\n",
            "        49.0       0.00      0.00      0.00         0\n",
            "        50.0       0.00      0.00      0.00         0\n",
            "        52.0       0.30      1.00      0.46         6\n",
            "        54.0       1.00      1.00      1.00         2\n",
            "        55.0       0.82      0.93      0.87        15\n",
            "        56.0       1.00      1.00      1.00         3\n",
            "        58.0       1.00      0.50      0.67         2\n",
            "        59.0       0.25      1.00      0.40         1\n",
            "        60.0       0.81      0.89      0.85        28\n",
            "        62.0       0.75      0.60      0.67         5\n",
            "        63.0       1.00      1.00      1.00         2\n",
            "        64.0       0.00      0.00      0.00         0\n",
            "        65.0       0.33      0.50      0.40         2\n",
            "        66.0       0.00      0.00      0.00         1\n",
            "        68.0       0.67      1.00      0.80         2\n",
            "        69.0       1.00      1.00      1.00         1\n",
            "        70.0       1.00      0.75      0.86         4\n",
            "        73.0       0.50      0.50      0.50         2\n",
            "        74.0       0.95      0.72      0.82        78\n",
            "        76.0       1.00      0.80      0.89        10\n",
            "        77.0       0.77      0.83      0.80        29\n",
            "        78.0       1.00      1.00      1.00         3\n",
            "        79.0       1.00      0.43      0.60         7\n",
            "        81.0       0.60      0.33      0.43         9\n",
            "        82.0       1.00      1.00      1.00         5\n",
            "        84.0       1.00      1.00      1.00         1\n",
            "        85.0       0.43      0.60      0.50        10\n",
            "        86.0       0.33      0.20      0.25         5\n",
            "        87.0       1.00      0.67      0.80         6\n",
            "        88.0       1.00      1.00      1.00         3\n",
            "        90.0       0.67      1.00      0.80         2\n",
            "        92.0       0.20      0.50      0.29         2\n",
            "        93.0       1.00      1.00      1.00         1\n",
            "        94.0       1.00      1.00      1.00         1\n",
            "        95.0       0.00      0.00      0.00         0\n",
            "        96.0       0.90      0.90      0.90        21\n",
            "        98.0       1.00      0.71      0.83         7\n",
            "        99.0       0.57      0.80      0.67        10\n",
            "       100.0       1.00      1.00      1.00         1\n",
            "       102.0       1.00      0.62      0.77         8\n",
            "       103.0       0.67      1.00      0.80         6\n",
            "       104.0       0.25      1.00      0.40         1\n",
            "       105.0       0.00      0.00      0.00         0\n",
            "       106.0       0.25      1.00      0.40         1\n",
            "       107.0       1.00      1.00      1.00         1\n",
            "       108.0       0.69      0.90      0.78        10\n",
            "       109.0       0.00      0.00      0.00         0\n",
            "       110.0       0.69      1.00      0.81        11\n",
            "       111.0       0.33      1.00      0.50         1\n",
            "       112.0       0.50      0.67      0.57         3\n",
            "       113.0       1.00      1.00      1.00         1\n",
            "       114.0       1.00      1.00      1.00         1\n",
            "       115.0       0.80      0.80      0.80         5\n",
            "       116.0       1.00      0.67      0.80         3\n",
            "       117.0       0.00      0.00      0.00         3\n",
            "       118.0       0.40      1.00      0.57         2\n",
            "\n",
            "    accuracy                           0.72       643\n",
            "   macro avg       0.63      0.70      0.64       643\n",
            "weighted avg       0.72      0.72      0.70       643\n",
            "\n"
          ],
          "name": "stdout"
        }
      ]
    },
    {
      "cell_type": "markdown",
      "metadata": {
        "id": "QGM-fYrqv8G_"
      },
      "source": [
        "##Criação de novo modelo"
      ]
    },
    {
      "cell_type": "markdown",
      "metadata": {
        "id": "19cm598FwPhU"
      },
      "source": [
        "Conforme as orientações:\r\n",
        "\r\n",
        "\r\n",
        "\r\n",
        "*   Dados com status \"approved\" serão utilizados para treinamento\r\n",
        "*   Dados com status \"revision\" serão os dados a ser previstos\r\n",
        "\r\n"
      ]
    },
    {
      "cell_type": "code",
      "metadata": {
        "id": "EXf3Oss0v-rK"
      },
      "source": [
        "#separar os dados em revision e approved\r\n",
        "df_new_model = df_ajusted.copy()"
      ],
      "execution_count": null,
      "outputs": []
    },
    {
      "cell_type": "code",
      "metadata": {
        "id": "2azJf41mz0Vk"
      },
      "source": [
        "df_new_model['Ok'] = (df_new_model['Pred_class'] == df_new_model['True_class']).astype(int)"
      ],
      "execution_count": null,
      "outputs": []
    },
    {
      "cell_type": "code",
      "metadata": {
        "colab": {
          "base_uri": "https://localhost:8080/",
          "height": 204
        },
        "id": "Wxwd6uV0wooe",
        "outputId": "d82ea4f3-2141-478f-9926-78f2f4fc4917"
      },
      "source": [
        "df_approved = df_new_model[df_new_model['status'] == 'approved']\r\n",
        "df_approved.tail(5)"
      ],
      "execution_count": null,
      "outputs": [
        {
          "output_type": "execute_result",
          "data": {
            "text/html": [
              "<div>\n",
              "<style scoped>\n",
              "    .dataframe tbody tr th:only-of-type {\n",
              "        vertical-align: middle;\n",
              "    }\n",
              "\n",
              "    .dataframe tbody tr th {\n",
              "        vertical-align: top;\n",
              "    }\n",
              "\n",
              "    .dataframe thead th {\n",
              "        text-align: right;\n",
              "    }\n",
              "</style>\n",
              "<table border=\"1\" class=\"dataframe\">\n",
              "  <thead>\n",
              "    <tr style=\"text-align: right;\">\n",
              "      <th></th>\n",
              "      <th>Pred_class</th>\n",
              "      <th>probabilidade</th>\n",
              "      <th>status</th>\n",
              "      <th>True_class</th>\n",
              "      <th>Ok</th>\n",
              "    </tr>\n",
              "  </thead>\n",
              "  <tbody>\n",
              "    <tr>\n",
              "      <th>595</th>\n",
              "      <td>74</td>\n",
              "      <td>0.432421</td>\n",
              "      <td>approved</td>\n",
              "      <td>74.0</td>\n",
              "      <td>1</td>\n",
              "    </tr>\n",
              "    <tr>\n",
              "      <th>596</th>\n",
              "      <td>82</td>\n",
              "      <td>0.590576</td>\n",
              "      <td>approved</td>\n",
              "      <td>82.0</td>\n",
              "      <td>1</td>\n",
              "    </tr>\n",
              "    <tr>\n",
              "      <th>597</th>\n",
              "      <td>92</td>\n",
              "      <td>0.915543</td>\n",
              "      <td>approved</td>\n",
              "      <td>92.0</td>\n",
              "      <td>1</td>\n",
              "    </tr>\n",
              "    <tr>\n",
              "      <th>598</th>\n",
              "      <td>96</td>\n",
              "      <td>0.334495</td>\n",
              "      <td>approved</td>\n",
              "      <td>96.0</td>\n",
              "      <td>1</td>\n",
              "    </tr>\n",
              "    <tr>\n",
              "      <th>599</th>\n",
              "      <td>99</td>\n",
              "      <td>0.373226</td>\n",
              "      <td>approved</td>\n",
              "      <td>22.0</td>\n",
              "      <td>0</td>\n",
              "    </tr>\n",
              "  </tbody>\n",
              "</table>\n",
              "</div>"
            ],
            "text/plain": [
              "     Pred_class  probabilidade    status  True_class  Ok\n",
              "595          74       0.432421  approved        74.0   1\n",
              "596          82       0.590576  approved        82.0   1\n",
              "597          92       0.915543  approved        92.0   1\n",
              "598          96       0.334495  approved        96.0   1\n",
              "599          99       0.373226  approved        22.0   0"
            ]
          },
          "metadata": {
            "tags": []
          },
          "execution_count": 175
        }
      ]
    },
    {
      "cell_type": "code",
      "metadata": {
        "colab": {
          "base_uri": "https://localhost:8080/"
        },
        "id": "x90b1QmY8b_5",
        "outputId": "d03b7b04-9400-4d20-b13b-3bfcf590e67b"
      },
      "source": [
        "len(df_approved)"
      ],
      "execution_count": null,
      "outputs": [
        {
          "output_type": "execute_result",
          "data": {
            "text/plain": [
              "600"
            ]
          },
          "metadata": {
            "tags": []
          },
          "execution_count": 176
        }
      ]
    },
    {
      "cell_type": "code",
      "metadata": {
        "colab": {
          "base_uri": "https://localhost:8080/",
          "height": 204
        },
        "id": "sCQ87R71w0oC",
        "outputId": "1fc91c9b-02fa-46ea-f2e9-98a7c40651c6"
      },
      "source": [
        "df_revision  = df_new_model[df_new_model['status'] == 'revision']\r\n",
        "\r\n",
        "df_revision.tail(5)"
      ],
      "execution_count": null,
      "outputs": [
        {
          "output_type": "execute_result",
          "data": {
            "text/html": [
              "<div>\n",
              "<style scoped>\n",
              "    .dataframe tbody tr th:only-of-type {\n",
              "        vertical-align: middle;\n",
              "    }\n",
              "\n",
              "    .dataframe tbody tr th {\n",
              "        vertical-align: top;\n",
              "    }\n",
              "\n",
              "    .dataframe thead th {\n",
              "        text-align: right;\n",
              "    }\n",
              "</style>\n",
              "<table border=\"1\" class=\"dataframe\">\n",
              "  <thead>\n",
              "    <tr style=\"text-align: right;\">\n",
              "      <th></th>\n",
              "      <th>Pred_class</th>\n",
              "      <th>probabilidade</th>\n",
              "      <th>status</th>\n",
              "      <th>True_class</th>\n",
              "      <th>Ok</th>\n",
              "    </tr>\n",
              "  </thead>\n",
              "  <tbody>\n",
              "    <tr>\n",
              "      <th>638</th>\n",
              "      <td>60</td>\n",
              "      <td>0.543772</td>\n",
              "      <td>revision</td>\n",
              "      <td>60.0</td>\n",
              "      <td>1</td>\n",
              "    </tr>\n",
              "    <tr>\n",
              "      <th>639</th>\n",
              "      <td>60</td>\n",
              "      <td>0.553846</td>\n",
              "      <td>revision</td>\n",
              "      <td>60.0</td>\n",
              "      <td>1</td>\n",
              "    </tr>\n",
              "    <tr>\n",
              "      <th>640</th>\n",
              "      <td>77</td>\n",
              "      <td>0.606065</td>\n",
              "      <td>revision</td>\n",
              "      <td>77.0</td>\n",
              "      <td>1</td>\n",
              "    </tr>\n",
              "    <tr>\n",
              "      <th>641</th>\n",
              "      <td>84</td>\n",
              "      <td>0.561842</td>\n",
              "      <td>revision</td>\n",
              "      <td>84.0</td>\n",
              "      <td>1</td>\n",
              "    </tr>\n",
              "    <tr>\n",
              "      <th>642</th>\n",
              "      <td>96</td>\n",
              "      <td>0.340740</td>\n",
              "      <td>revision</td>\n",
              "      <td>96.0</td>\n",
              "      <td>1</td>\n",
              "    </tr>\n",
              "  </tbody>\n",
              "</table>\n",
              "</div>"
            ],
            "text/plain": [
              "     Pred_class  probabilidade    status  True_class  Ok\n",
              "638          60       0.543772  revision        60.0   1\n",
              "639          60       0.553846  revision        60.0   1\n",
              "640          77       0.606065  revision        77.0   1\n",
              "641          84       0.561842  revision        84.0   1\n",
              "642          96       0.340740  revision        96.0   1"
            ]
          },
          "metadata": {
            "tags": []
          },
          "execution_count": 177
        }
      ]
    },
    {
      "cell_type": "code",
      "metadata": {
        "colab": {
          "base_uri": "https://localhost:8080/"
        },
        "id": "iYssehsT8gov",
        "outputId": "da57ac05-59b6-4371-e2a5-c2ce0c68941d"
      },
      "source": [
        "len(df_revision)"
      ],
      "execution_count": null,
      "outputs": [
        {
          "output_type": "execute_result",
          "data": {
            "text/plain": [
              "43"
            ]
          },
          "metadata": {
            "tags": []
          },
          "execution_count": 178
        }
      ]
    },
    {
      "cell_type": "code",
      "metadata": {
        "id": "BIDQ4sMu5hY2"
      },
      "source": [
        "qtdCorrectRevisionBefore = len(df_revision[df_revision['Ok'] == 1])"
      ],
      "execution_count": null,
      "outputs": []
    },
    {
      "cell_type": "markdown",
      "metadata": {
        "id": "FViwVQ7YxRpk"
      },
      "source": [
        "### testando algoritmos de *classificação*"
      ]
    },
    {
      "cell_type": "code",
      "metadata": {
        "id": "NPzv9P10xl93"
      },
      "source": [
        "X = df_approved[['Pred_class', 'probabilidade']]\r\n",
        "target = df_approved['Ok']"
      ],
      "execution_count": null,
      "outputs": []
    },
    {
      "cell_type": "code",
      "metadata": {
        "id": "_l5y_c0a_yB1"
      },
      "source": [
        "def scores_model(model, X, y, folds):\r\n",
        "# # # prepare cross validation\r\n",
        " accuracies = []\r\n",
        " precisions = []\r\n",
        " recalls = []\r\n",
        " \r\n",
        " kfold = KFold(folds)\r\n",
        "# # # # enumerate splits\r\n",
        " for train_index, test_index in kfold.split(X):\r\n",
        "       X_train, X_test, y_train, y_test = X.values[train_index], X.values[test_index], y.values[train_index],  y.values[test_index]\r\n",
        "       model.fit(X_train, y_train)\r\n",
        "       predictions = model.predict(X_test)\r\n",
        "\r\n",
        "       accuracies.append(accuracy_score(y_test, predictions))\r\n",
        "       precisions.append(precision_score(y_test, predictions))\r\n",
        "       recalls.append(recall_score(y_test, predictions))\r\n",
        "\r\n",
        " print('Mean Accuracy score:', np.mean(accuracies))\r\n",
        " print('Mean Precision score:',np.mean(precisions))\r\n",
        " print('Mean Recall score:', np.mean(recalls))\r\n",
        "       "
      ],
      "execution_count": null,
      "outputs": []
    },
    {
      "cell_type": "code",
      "metadata": {
        "colab": {
          "base_uri": "https://localhost:8080/"
        },
        "id": "0m9P7wGOxXIa",
        "outputId": "9f987e08-942e-4cc3-9ee9-0a1146c54a66"
      },
      "source": [
        "from sklearn.naive_bayes import GaussianNB\r\n",
        "modelNaiveBayes = GaussianNB()\r\n",
        "\r\n",
        "scores_model(modelNaiveBayes, X, target, 6)"
      ],
      "execution_count": null,
      "outputs": [
        {
          "output_type": "stream",
          "text": [
            "Mean Accuracy score: 0.71\n",
            "Mean Precision score: 0.7860282541218083\n",
            "Mean Recall score: 0.8110341909742793\n"
          ],
          "name": "stdout"
        }
      ]
    },
    {
      "cell_type": "code",
      "metadata": {
        "colab": {
          "base_uri": "https://localhost:8080/"
        },
        "id": "cwpkMlDa0zJ0",
        "outputId": "f31da436-8308-4691-8729-0647758adce6"
      },
      "source": [
        "from sklearn.ensemble import RandomForestClassifier\r\n",
        "\r\n",
        "random = RandomForestClassifier(n_estimators=100)\r\n",
        "scores_model(random, X, target, 6)"
      ],
      "execution_count": null,
      "outputs": [
        {
          "output_type": "stream",
          "text": [
            "Mean Accuracy score: 0.7716666666666666\n",
            "Mean Precision score: 0.8182947262434693\n",
            "Mean Recall score: 0.8684015369163572\n"
          ],
          "name": "stdout"
        }
      ]
    },
    {
      "cell_type": "code",
      "metadata": {
        "colab": {
          "base_uri": "https://localhost:8080/"
        },
        "id": "nf_RJF2F1k5i",
        "outputId": "a9164fed-cd15-4b79-d0f5-22257bb020bb"
      },
      "source": [
        "from sklearn.tree import DecisionTreeClassifier \r\n",
        "\r\n",
        "tree = DecisionTreeClassifier()\r\n",
        "scores_model(tree, X, target, 6)"
      ],
      "execution_count": null,
      "outputs": [
        {
          "output_type": "stream",
          "text": [
            "Mean Accuracy score: 0.7533333333333334\n",
            "Mean Precision score: 0.8241821366821367\n",
            "Mean Recall score: 0.8232052941297212\n"
          ],
          "name": "stdout"
        }
      ]
    },
    {
      "cell_type": "markdown",
      "metadata": {
        "id": "1sigSGUY4Epg"
      },
      "source": [
        "### Executando o algoritmo escolhido"
      ]
    },
    {
      "cell_type": "code",
      "metadata": {
        "colab": {
          "base_uri": "https://localhost:8080/"
        },
        "id": "ndgkpGIY1pkF",
        "outputId": "8aa42640-191b-4258-b0c9-28dae8207cb4"
      },
      "source": [
        "#criando o modelo\r\n",
        "random.fit(X, target)"
      ],
      "execution_count": null,
      "outputs": [
        {
          "output_type": "execute_result",
          "data": {
            "text/plain": [
              "RandomForestClassifier(bootstrap=True, ccp_alpha=0.0, class_weight=None,\n",
              "                       criterion='gini', max_depth=None, max_features='auto',\n",
              "                       max_leaf_nodes=None, max_samples=None,\n",
              "                       min_impurity_decrease=0.0, min_impurity_split=None,\n",
              "                       min_samples_leaf=1, min_samples_split=2,\n",
              "                       min_weight_fraction_leaf=0.0, n_estimators=100,\n",
              "                       n_jobs=None, oob_score=False, random_state=None,\n",
              "                       verbose=0, warm_start=False)"
            ]
          },
          "metadata": {
            "tags": []
          },
          "execution_count": 185
        }
      ]
    },
    {
      "cell_type": "code",
      "metadata": {
        "id": "Q4VmPkvt4djk"
      },
      "source": [
        "#executando o modelo\r\n",
        "XPredict = df_revision[['Pred_class', 'probabilidade']]\r\n",
        "predict = random.predict(XPredict)"
      ],
      "execution_count": null,
      "outputs": []
    },
    {
      "cell_type": "code",
      "metadata": {
        "id": "mmnN-jY-5ERC"
      },
      "source": [
        "del df_revision['Ok']"
      ],
      "execution_count": null,
      "outputs": []
    },
    {
      "cell_type": "code",
      "metadata": {
        "id": "OT1iDqt_Dk6_"
      },
      "source": [
        "df_revision = df_revision.assign(Ok=predict)"
      ],
      "execution_count": null,
      "outputs": []
    },
    {
      "cell_type": "code",
      "metadata": {
        "colab": {
          "base_uri": "https://localhost:8080/"
        },
        "id": "mZbecUKq6Am4",
        "outputId": "abfd8e96-2b83-4e37-fdd1-32ed01ab945e"
      },
      "source": [
        "print(f'Antes de executar o modelo de predição, {qtdCorrectRevisionBefore} registros eram considerados corretos.')\r\n",
        "print(f'Após a execução do modelo de predição, {len(df_revision[df_revision[\"Ok\"] == 1])} registros foram classificados como corretos.')\r\n",
        "\r\n",
        "print(f'Não é possível afirmar a verecidade desta primeira afirmação! Como demonstrado no início desta análise, TODOS os registros com status igual a revision estavam SEM valor na coluna \"True_class\". por isso, após a etapa de popular os registros faltantes com os valores da coluna \"Pred_class\", TODOS os dados ficaram com o dado exatamente igual.')"
      ],
      "execution_count": null,
      "outputs": [
        {
          "output_type": "stream",
          "text": [
            "Antes de executar o modelo de predição, 43 registros eram considerados corretos.\n",
            "Após a execução do modelo de predição, 34 registros foram classificados como corretos.\n",
            "Não é possível afirmar a verecidade desta primeira afirmação! Como demonstrado no início desta análise, TODOS os registros com status igual a revision estavam SEM valor na coluna \"True_class\". por isso, após a etapa de popular os registros faltantes com os valores da coluna \"Pred_class\", TODOS os dados ficaram com o dado exatamente igual.\n"
          ],
          "name": "stdout"
        }
      ]
    }
  ]
}